{
 "cells": [
  {
   "cell_type": "markdown",
   "metadata": {},
   "source": [
    "## Extractive Text Summarizer"
   ]
  },
  {
   "cell_type": "markdown",
   "metadata": {},
   "source": [
    "#### Step - 1 Identifying metric to score sentences\n",
    "#### Step - 2 Assigning weights to sentences using this metric\n",
    "#### step - 3 Deciding what threshold to use\n",
    "#### step - 4 Extracting Summary by selecting sentences with score > threshold"
   ]
  },
  {
   "cell_type": "code",
   "execution_count": 1,
   "metadata": {},
   "outputs": [],
   "source": [
    "import nltk\n",
    "from nltk.corpus import stopwords\n",
    "from nltk.stem import PorterStemmer\n",
    "from nltk.tokenize import word_tokenize, sent_tokenize"
   ]
  },
  {
   "cell_type": "code",
   "execution_count": 2,
   "metadata": {},
   "outputs": [],
   "source": [
    "text=\"\"\"\n",
    "An old man lived in the village. He was one of the most unfortunate people in the world. The whole village was tired of him; he was always gloomy, he constantly complained and was always in a bad mood.\n",
    "The longer he lived, the more bile he was becoming and the more poisonous were his words. People avoided him, because his misfortune became contagious. It was even unnatural and insulting to be happy next to him.\n",
    "\n",
    "He created the feeling of unhappiness in others.\n",
    "But one day, when he turned eighty years old, an incredible thing happened. Instantly everyone started hearing the rumour: “An Old Man is happy today, he doesn’t complain about anything, smiles, and even his face is freshened up.”\n",
    "The whole village gathered together. The old man was asked:\n",
    "Villager: What happened to you?\n",
    "“Nothing special. Eighty years I’ve been chasing happiness, and it was useless. And then I decided to live without happiness and just enjoy life. That’s why I’m happy now.” – An Old Man\n",
    "\n",
    "\"\"\""
   ]
  },
  {
   "cell_type": "markdown",
   "metadata": {},
   "source": [
    "#### Function to Calculate the Frequency of words in the text:"
   ]
  },
  {
   "cell_type": "code",
   "execution_count": 3,
   "metadata": {},
   "outputs": [],
   "source": [
    "def frequency_table(text_string):\n",
    "    stop_words = set(stopwords.words(\"english\"))\n",
    "    words = word_tokenize(text_string)\n",
    "    pst = PorterStemmer()\n",
    "    \n",
    "    freqTable = dict()\n",
    "    for word in words:\n",
    "        word = pst.stem(word)\n",
    "        if word in stop_words:\n",
    "            continue\n",
    "        if word in freqTable:\n",
    "            freqTable[word] += 1\n",
    "        else:\n",
    "            freqTable[word] = 1\n",
    "            \n",
    "    return freqTable"
   ]
  },
  {
   "cell_type": "markdown",
   "metadata": {},
   "source": [
    "#### Create a Score Function which calculates the score of each sentence"
   ]
  },
  {
   "cell_type": "code",
   "execution_count": 4,
   "metadata": {},
   "outputs": [],
   "source": [
    "def sentence_score(sentences, freqTable):\n",
    "    sent_value = dict()\n",
    "    \n",
    "    for sentence in sentences:\n",
    "        word_count = len(word_tokenize(sentence))\n",
    "        word_count_except_sw = 0\n",
    "        for wordValue in freqTable:\n",
    "            if wordValue in sentence.lower():\n",
    "                word_count_except_sw += 1\n",
    "            if sentence[:10] in sent_value:\n",
    "                sent_value[sentence[:10]] += freqTable[wordValue]\n",
    "            else:\n",
    "                sent_value[sentence[:10]] = freqTable[wordValue]\n",
    "            \n",
    "        if sentence[:10] in sent_value:\n",
    "            sent_value[sentence[:10]] = freqTable[wordValue] / word_count_except_sw\n",
    "            \n",
    "    return sent_value"
   ]
  },
  {
   "cell_type": "markdown",
   "metadata": {},
   "source": [
    "#### Finding the average score"
   ]
  },
  {
   "cell_type": "code",
   "execution_count": 5,
   "metadata": {},
   "outputs": [],
   "source": [
    "def average_score(sent_value):\n",
    "    sumValue = 0\n",
    "    \n",
    "    for entry in sent_value:\n",
    "        sumValue += sent_value[entry]\n",
    "        \n",
    "    average = sumValue / len(sent_value)\n",
    "    \n",
    "    return average"
   ]
  },
  {
   "cell_type": "markdown",
   "metadata": {},
   "source": [
    "#### Function to generate Summary"
   ]
  },
  {
   "cell_type": "code",
   "execution_count": 6,
   "metadata": {},
   "outputs": [],
   "source": [
    "def generate_summary(sentences, sent_value, threshold):\n",
    "    sentence_count = 0\n",
    "    summary = ''\n",
    "    \n",
    "    for sentence in sentences:\n",
    "        if sentence[:10] in sent_value and sent_value[sentence[:10]] >= (threshold):\n",
    "            summary =''+sentence\n",
    "            sentence_count += 1\n",
    "            \n",
    "    return summary"
   ]
  },
  {
   "cell_type": "markdown",
   "metadata": {},
   "source": [
    "#### Function to call all the above functions"
   ]
  },
  {
   "cell_type": "code",
   "execution_count": 10,
   "metadata": {},
   "outputs": [],
   "source": [
    "def summarization(text):\n",
    "    freq_table = frequency_table(text)\n",
    "    \n",
    "    sentences = sent_tokenize(text)\n",
    "    \n",
    "    scores = sentence_score(sentences, freq_table)\n",
    "    \n",
    "    threshold = average_score(scores)\n",
    "    \n",
    "    summary = generate_summary(sentences, scores, 1 * threshold)\n",
    "    \n",
    "    return summary"
   ]
  },
  {
   "cell_type": "markdown",
   "metadata": {},
   "source": [
    "#### Generate Summary"
   ]
  },
  {
   "cell_type": "code",
   "execution_count": 11,
   "metadata": {},
   "outputs": [],
   "source": [
    "if __name__ == '__main__':\n",
    "    result = summarization(text)"
   ]
  },
  {
   "cell_type": "code",
   "execution_count": 12,
   "metadata": {},
   "outputs": [
    {
     "name": "stdout",
     "output_type": "stream",
     "text": [
      "That’s why I’m happy now.” – An Old Man\n"
     ]
    }
   ],
   "source": [
    "print(result)"
   ]
  }
 ],
 "metadata": {
  "kernelspec": {
   "display_name": "Python 3",
   "language": "python",
   "name": "python3"
  },
  "language_info": {
   "codemirror_mode": {
    "name": "ipython",
    "version": 3
   },
   "file_extension": ".py",
   "mimetype": "text/x-python",
   "name": "python",
   "nbconvert_exporter": "python",
   "pygments_lexer": "ipython3",
   "version": "3.7.4"
  }
 },
 "nbformat": 4,
 "nbformat_minor": 2
}
